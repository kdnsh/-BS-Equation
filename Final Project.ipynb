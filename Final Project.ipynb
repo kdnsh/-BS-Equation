{
 "cells": [
  {
   "cell_type": "code",
   "execution_count": 117,
   "metadata": {},
   "outputs": [
    {
     "data": {
      "text/plain": [
       "1.0623579283658153"
      ]
     },
     "execution_count": 117,
     "metadata": {},
     "output_type": "execute_result"
    }
   ],
   "source": [
    "# PART I.\n",
    "# using numerical method to approximate phi(x)\n",
    "\n",
    "import math\n",
    "\n",
    "def CompSimpsonf1(a,b,n):\n",
    "    h = (b-a)/n\n",
    "    XI0 = f1(a)+f1(b)\n",
    "    XI1 = 0\n",
    "    XI2 = 0\n",
    "    for i in range(1,n):\n",
    "        X = a+i*h\n",
    "        if i%2 == 0:\n",
    "            XI2 += f1(X)\n",
    "        else:\n",
    "            XI1 += f1(X)\n",
    "    XI = h/3*(XI0+2*XI2+4*XI1)\n",
    "    return XI\n",
    "def CompSimpsonf2(a,b,n):\n",
    "    h = (b-a)/n\n",
    "    XI0 = f2(a)+f2(b)\n",
    "    XI1 = 0\n",
    "    XI2 = 0\n",
    "    for i in range(1,n):\n",
    "        X = a+i*h\n",
    "        if i%2 == 0:\n",
    "            XI2 += f2(X)\n",
    "        else:\n",
    "            XI1 += f2(X)\n",
    "    XI = h/3*(XI0+2*XI2+4*XI1)\n",
    "    return XI\n",
    "\n",
    "def CompMid1(a,b,n):\n",
    "    h = (b-a)/(n+2)\n",
    "    XI1 = 0\n",
    "    for i in range(1,n+2):\n",
    "        if i%2 != 0:\n",
    "            X = a+i*h\n",
    "            XI1 += f1(X)\n",
    "    XI = 2*h*XI1\n",
    "    return XI\n",
    "def CompMid2(a,b,n):\n",
    "    h = (b-a)/(n+2)\n",
    "    XI1 = 0\n",
    "    for i in range(1,n+2):\n",
    "        if i%2 != 0:\n",
    "            X = a+i*h\n",
    "            XI1 += f2(X)\n",
    "    XI = 2*h*XI1\n",
    "    return XI\n",
    "\n",
    "def f1(x):\n",
    "    return math.exp(-1/(2*x**2))/x**2\n",
    "def f2(x):\n",
    "    return math.exp(-x**2/2)\n",
    "\n",
    "#  use Composite Midpoint Rule instead of Composite Simpson's rule because f1(x) is not defined on x=0, \n",
    "#  thus we need to do Open Newton-Cotes Formulas\n",
    "def phi(x):\n",
    "    return (1/math.sqrt(2*math.pi))*(CompMid1(-1,0,100)+CompMid2(-1,x,100))\n",
    "phi(100)"
   ]
  },
  {
   "cell_type": "code",
   "execution_count": 118,
   "metadata": {},
   "outputs": [
    {
     "data": {
      "text/plain": [
       "0.16530592459800603"
      ]
     },
     "execution_count": 118,
     "metadata": {},
     "output_type": "execute_result"
    }
   ],
   "source": [
    "# an attempt to use Gaussian Quadrature for this problem\n",
    "\n",
    "def f1(x):\n",
    "    return math.exp(-1/(2*x**2))/(x**2)\n",
    "def f2(x):\n",
    "    return math.exp(-x**2/2)\n",
    "def transformf1(a,b,x):\n",
    "    return f1(((b-a)*x+b+a)/2)*(b-a)/2\n",
    "def GaussianN51(a,b):\n",
    "    return 0.2369268850*transformf1(a,b,0.9061798459)+\\\n",
    "0.4786286705*transformf1(a,b,0.5384693101)+\\\n",
    "0.5688888889*transformf1(a,b,0)+0.4786286705*transformf1(a,b,-0.5384693101)\\\n",
    "+0.2369268850*transformf1(a,b,-0.9061798459)\n",
    "def transformf2(a,b,x):\n",
    "    return f2(((b-a)*x+b+a)/2)*(b-a)/2\n",
    "def GaussianN52(a,b):\n",
    "    return 0.2369268850*transformf2(a,b,0.9061798459)+\\\n",
    "0.4786286705*transformf2(a,b,0.5384693101)+\\\n",
    "0.5688888889*transformf2(a,b,0)+0.4786286705*transformf2(a,b,-0.5384693101)\\\n",
    "+0.2369268850*transformf2(a,b,-0.9061798459)\n",
    "\n",
    "def phi1(x):\n",
    "    return (1/math.sqrt(2*math.pi))*(GaussianN51(-1,0)+GaussianN52(-1,x))\n",
    "phi1(100)\n",
    "# not using Gaussian Quadrature because it is hard to realize large n, \n",
    "# which means when the domain is big, the result could be very inaccurate"
   ]
  },
  {
   "cell_type": "code",
   "execution_count": 312,
   "metadata": {},
   "outputs": [],
   "source": [
    "# PART II.\n",
    "\n",
    "import numpy as np\n",
    "K = 40\n",
    "S0 = 36\n",
    "r = 0.08\n",
    "vol = 0.3\n",
    "div = 0\n",
    "T = 1\n",
    "Smax = 80\n",
    "N = 100\n",
    "M = 100\n",
    "delta_t = T/N\n",
    "delta_S = Smax/M\n",
    "\n",
    "def jacobi(A,b,N,x=None):\n",
    "    \"\"\"Solves the equation Ax=b via the Jacobi iterative method.\"\"\"\n",
    "    # Create an initial guess if needed                                                                                                                                                            \n",
    "    if x is None:\n",
    "        x = zeros(len(A[0]))\n",
    "    # Create a vector of the diagonal elements of A                                                                                                                                                \n",
    "    # and subtract them from A                                                                                                                                                                     \n",
    "    D = diag(A)\n",
    "    R = A - diagflat(D)\n",
    "    # Iterate for N times                                                                                                                                                                          \n",
    "    for i in range(N):\n",
    "        x = (b - dot(R,x)) / D\n",
    "    return x\n",
    "\n",
    "initial = np.zeros(99)\n",
    "\n",
    "def Ci(A,b,N,x):\n",
    "    \n",
    "    # represent A\n",
    "    A = np.zeros((99,99))\n",
    "    for a in range(1,98):\n",
    "        alpha = (delta_t/2)*(r*(a+1)-vol**2*(a+1)**2)\n",
    "        beta = 1+delta_t*(vol**2*(a+1)**2+r)\n",
    "        gamma = -(delta_t/2)*(vol**2*(a+1)**2+r*(a+1))\n",
    "        A[a][a-1:a+2] = [alpha, beta, gamma]\n",
    "    beta1 = 1+delta_t*(vol**2*(1)**2+r)\n",
    "    gamma1 = -(delta_t/2)*(vol**2*(1)**2+r*(1))\n",
    "    A[0][0:2] = [beta1,gamma1]\n",
    "    alpha99 = (delta_t/2)*(r*(99)-vol**2*(99))\n",
    "    beta99 = 1+delta_t*(vol**2*(99)**2+r)\n",
    "    A[98][-2] = alpha99\n",
    "    A[98][-1] = beta99\n",
    "    \n",
    "    i = 100\n",
    "    # represent C100\n",
    "    Cn = np.zeros(99)\n",
    "    for j in range(1,100):\n",
    "        profit = (j)*delta_S-K\n",
    "        if profit < 0 :\n",
    "            Cn[j-1] = 0\n",
    "        if profit >= 0:\n",
    "            Cn[j-1] = profit\n",
    "    \n",
    "    # represent Bi\n",
    "    while i>0:    \n",
    "        B = np.zeros(99) \n",
    "        alpha1 = (delta_t/2)*(r*1-vol**2*1)\n",
    "        B[0] = alpha1 * 0 # boundary condition when S = 0\n",
    "        gamma99 = -(delta_t/2)*(vol**2*99**2+r*99)\n",
    "        B[-1] = gamma99 * (Smax-K*math.exp(-r*(T-i*delta_t)))\n",
    "        \n",
    "        initial = [1]*99\n",
    "        b = Cn-B\n",
    "        Cn_1 = jacobi(A, b, 10000, initial)\n",
    "        Cn = Cn_1\n",
    "        i = i-1\n",
    "    return Cn\n"
   ]
  },
  {
   "cell_type": "code",
   "execution_count": 304,
   "metadata": {},
   "outputs": [
    {
     "data": {
      "text/plain": [
       "array([1.31125345e-46, 1.54527362e-43, 5.96950583e-41, 1.14716008e-38,\n",
       "       1.32336759e-36, 1.02195920e-34, 5.67583668e-33, 2.38580059e-31,\n",
       "       7.88649480e-30, 2.11233261e-28, 4.69571214e-27, 8.83646481e-26,\n",
       "       1.43111574e-24, 2.02298179e-23, 2.52626134e-22, 2.81639289e-21,\n",
       "       2.82899441e-20, 2.58119621e-19, 2.15472426e-18, 1.65630587e-17,\n",
       "       1.17917009e-16, 7.81555688e-16, 4.84546308e-15, 2.82200421e-14,\n",
       "       1.54994272e-13, 8.05657886e-13, 3.97624715e-12, 1.86886497e-11,\n",
       "       8.38791916e-11, 3.60411547e-10, 1.48601608e-09, 5.89202954e-09,\n",
       "       2.25107736e-08, 8.30242963e-08, 2.96113218e-07, 1.02292813e-06,\n",
       "       3.42781234e-06, 1.11578452e-05, 3.53266426e-05, 1.08921677e-04,\n",
       "       3.27426731e-04, 9.60658713e-04, 2.75371138e-03, 7.71924957e-03,\n",
       "       2.11801051e-02, 5.69303965e-02, 1.50027000e-01, 3.87909691e-01,\n",
       "       9.56494589e-01, 1.64854283e+00, 2.38754069e+00, 3.14470603e+00,\n",
       "       3.90901505e+00, 4.67617152e+00, 5.44447275e+00, 6.21323291e+00,\n",
       "       6.98217138e+00, 7.75117158e+00, 8.52018435e+00, 9.28918868e+00,\n",
       "       1.00581754e+01, 1.08271406e+01, 1.15960823e+01, 1.23649999e+01,\n",
       "       1.31338928e+01, 1.39027609e+01, 1.46716041e+01, 1.54404221e+01,\n",
       "       1.62092150e+01, 1.69779824e+01, 1.77467240e+01, 1.85154389e+01,\n",
       "       1.92841259e+01, 2.00527826e+01, 2.08214045e+01, 2.15899839e+01,\n",
       "       2.23585071e+01, 2.31269498e+01, 2.38952696e+01, 2.46633927e+01,\n",
       "       2.54311916e+01, 2.61984481e+01, 2.69647899e+01, 2.77295866e+01,\n",
       "       2.84917777e+01, 2.92495887e+01, 3.00000693e+01, 3.07383411e+01,\n",
       "       3.14563842e+01, 3.21410858e+01, 3.27711221e+01, 3.33119989e+01,\n",
       "       3.37082059e+01, 3.38708621e+01, 3.36583594e+01, 3.28461752e+01,\n",
       "       3.10800137e+01, 2.78033959e+01, 2.21462637e+01])"
      ]
     },
     "execution_count": 304,
     "metadata": {},
     "output_type": "execute_result"
    }
   ],
   "source": [
    "import numpy as np\n",
    "from numpy import array, zeros, diag, diagflat, dot\n",
    "K = 40\n",
    "S0 = 36\n",
    "r = 0.08\n",
    "vol = 0.3\n",
    "div = 0\n",
    "T = 1\n",
    "Smax = 80\n",
    "N = 100\n",
    "M = 100\n",
    "delta_t = T/N\n",
    "delta_S = Smax/M\n",
    "\n",
    "def jacobi(A,b,N,x=None):\n",
    "    \"\"\"Solves the equation Ax=b via the Jacobi iterative method.\"\"\"\n",
    "    # Create an initial guess if needed                                                                                                                                                            \n",
    "    if x is None:\n",
    "        x = zeros(len(A[0]))\n",
    "    # Create a vector of the diagonal elements of A                                                                                                                                                \n",
    "    # and subtract them from A                                                                                                                                                                     \n",
    "    D = diag(A)\n",
    "    R = A - diagflat(D)\n",
    "    # Iterate for N times                                                                                                                                                                          \n",
    "    for i in range(N):\n",
    "        x = (b - dot(R,x)) / D\n",
    "    return x\n",
    "\n",
    "\n",
    "Cn = np.zeros(99)\n",
    "B = np.zeros(99)\n",
    "for i in range(1,100):\n",
    "    # represent Cn\n",
    "    profit = (i)*0.8-K*math.exp(-r*(N-i)*delta_t)\n",
    "    if profit < 0 :\n",
    "        Cn[i-1] = 0\n",
    "    if profit >= 0:\n",
    "        Cn[i-1] = profit\n",
    "    # represent Bi\n",
    "    alpha1 = (delta_t/2)*(r*1-vol**2*1)\n",
    "    B[0] = alpha1 * 0 # boundary condition when S = 0\n",
    "    gamma99 = -(delta_t/2)*(vol**2*99**2+r*99)\n",
    "    B[-1] = gamma99 * (Smax-K*math.exp(-r*(T-i*delta_t)))\n",
    "\n",
    "# represent A\n",
    "A = np.zeros((99,99))\n",
    "for j in range(1,98):\n",
    "    alpha = (delta_t/2)*(r*(j+1)-vol**2*(j+1)**2)\n",
    "    beta = 1+delta_t*(vol**2*(j+1)**2+r)\n",
    "    gamma = -(delta_t/2)*(vol**2*(j+1)**2+r*(j+1))\n",
    "    A[j][j-1:j+2] = [alpha, beta, gamma]\n",
    "beta1 = 1+delta_t*(vol**2*(1)**2+r)\n",
    "gamma1 = -(delta_t/2)*(vol**2*(1)**2+r*(1))\n",
    "A[0][0:2] = [beta1,gamma1]\n",
    "alpha99 = (delta_t/2)*(r*(99)-vol**2*(99))\n",
    "beta99 = 1+delta_t*(vol**2*(99)**2+r)\n",
    "A[98][-2] = alpha99\n",
    "A[98][-1] = beta99\n",
    "\n",
    "initial = [1]*99\n",
    "b = Cn-B\n",
    "\n",
    "jacobi(A, b, 10000, initial)"
   ]
  },
  {
   "cell_type": "code",
   "execution_count": 311,
   "metadata": {},
   "outputs": [
    {
     "data": {
      "text/plain": [
       "array([ 0. ,  0. ,  0. ,  0. ,  0. ,  0. ,  0. ,  0. ,  0. ,  0. ,  0. ,\n",
       "        0. ,  0. ,  0. ,  0. ,  0. ,  0. ,  0. ,  0. ,  0. ,  0. ,  0. ,\n",
       "        0. ,  0. ,  0. ,  0. ,  0. ,  0. ,  0. ,  0. ,  0. ,  0. ,  0. ,\n",
       "        0. ,  0. ,  0. ,  0. ,  0. ,  0. ,  0. ,  0. ,  0. ,  0. ,  0. ,\n",
       "        0. ,  0. ,  0. ,  0. ,  0. ,  0. ,  0.8,  1.6,  2.4,  3.2,  4. ,\n",
       "        4.8,  5.6,  6.4,  7.2,  8. ,  8.8,  9.6, 10.4, 11.2, 12. , 12.8,\n",
       "       13.6, 14.4, 15.2, 16. , 16.8, 17.6, 18.4, 19.2, 20. , 20.8, 21.6,\n",
       "       22.4, 23.2, 24. , 24.8, 25.6, 26.4, 27.2, 28. , 28.8, 29.6, 30.4,\n",
       "       31.2, 32. , 32.8, 33.6, 34.4, 35.2, 36. , 36.8, 37.6, 38.4, 39.2])"
      ]
     },
     "execution_count": 311,
     "metadata": {},
     "output_type": "execute_result"
    }
   ],
   "source": [
    "# represent C100\n",
    "Cn = np.zeros(99)\n",
    "for j in range(1,100):\n",
    "    profit = (j)*0.8-K\n",
    "    if profit < 0 :\n",
    "        Cn[j-1] = 0\n",
    "    if profit >= 0:\n",
    "        Cn[j-1] = profit\n",
    "Cn"
   ]
  },
  {
   "cell_type": "code",
   "execution_count": 235,
   "metadata": {},
   "outputs": [
    {
     "data": {
      "text/plain": [
       "array([[ 1.00170e+00, -8.50000e-04,  0.00000e+00, ...,  0.00000e+00,\n",
       "         0.00000e+00,  0.00000e+00],\n",
       "       [-1.00000e-04,  1.00440e+00, -2.60000e-03, ...,  0.00000e+00,\n",
       "         0.00000e+00,  0.00000e+00],\n",
       "       [ 0.00000e+00, -1.50000e-04,  1.00890e+00, ...,  0.00000e+00,\n",
       "         0.00000e+00,  0.00000e+00],\n",
       "       ...,\n",
       "       [ 0.00000e+00,  0.00000e+00,  0.00000e+00, ...,  9.46890e+00,\n",
       "        -4.27285e+00,  0.00000e+00],\n",
       "       [ 0.00000e+00,  0.00000e+00,  0.00000e+00, ..., -4.90000e-03,\n",
       "         9.64440e+00, -4.36100e+00],\n",
       "       [ 0.00000e+00,  0.00000e+00,  0.00000e+00, ..., -4.95000e-03,\n",
       "         9.82170e+00,  0.00000e+00]])"
      ]
     },
     "execution_count": 235,
     "metadata": {},
     "output_type": "execute_result"
    }
   ],
   "source": [
    "A = np.zeros((99,99))\n",
    "for i in range(1,98):\n",
    "    alpha = (delta_t/2)*(r*(i+1)-vol**2*(i+1))\n",
    "    beta = 1+delta_t*(vol**2*(i+1)**2+r)\n",
    "    gamma = -(delta_t/2)*(vol**2*(i+1)**2+r*(i+1))\n",
    "    A[i][i-1:i+2] = [alpha, beta, gamma]\n",
    "beta1 = 1+delta_t*(vol**2*(1)**2+r)\n",
    "gamma1 = -(delta_t/2)*(vol**2*(1)**2+r*(1))\n",
    "A[0][0:2] = [beta1,gamma1]\n",
    "alpha99 = (delta_t/2)*(r*(99)-vol**2*(99))\n",
    "beta99 = 1+delta_t*(vol**2*(99)**2+r)\n",
    "A[98][-3:-1] = [alpha99,beta99]\n",
    "A"
   ]
  },
  {
   "cell_type": "code",
   "execution_count": 187,
   "metadata": {},
   "outputs": [
    {
     "data": {
      "text/plain": [
       "array([[1, 2, 3, 4, 5],\n",
       "       [1, 2, 3, 4, 5],\n",
       "       [1, 2, 3, 4, 5],\n",
       "       [1, 2, 3, 4, 5],\n",
       "       [1, 2, 3, 4, 5],\n",
       "       [1, 2, 3, 4, 5],\n",
       "       [1, 2, 3, 4, 5],\n",
       "       [1, 2, 3, 4, 5],\n",
       "       [1, 2, 3, 4, 5],\n",
       "       [1, 2, 3, 4, 5]])"
      ]
     },
     "execution_count": 187,
     "metadata": {},
     "output_type": "execute_result"
    }
   ],
   "source": [
    "np.array([[1,2,3,4,5]]*10)"
   ]
  },
  {
   "cell_type": "code",
   "execution_count": 224,
   "metadata": {},
   "outputs": [
    {
     "data": {
      "text/plain": [
       "array([1., 2., 0., 0., 0., 0., 0., 0., 0., 0.])"
      ]
     },
     "execution_count": 224,
     "metadata": {},
     "output_type": "execute_result"
    }
   ],
   "source": [
    "A = np.zeros(10)\n",
    "A[0:2] = [1,2]\n",
    "A"
   ]
  },
  {
   "cell_type": "code",
   "execution_count": 316,
   "metadata": {},
   "outputs": [
    {
     "data": {
      "text/plain": [
       "3.6761634645140915"
      ]
     },
     "execution_count": 316,
     "metadata": {},
     "output_type": "execute_result"
    }
   ],
   "source": [
    "# represent A\n",
    "A = np.zeros((99,99))\n",
    "for a in range(1,98):\n",
    "    alpha = (delta_t/2)*(r*(a+1)-vol**2*(a+1)**2)\n",
    "    beta = 1+delta_t*(vol**2*(a+1)**2+r)\n",
    "    gamma = -(delta_t/2)*(vol**2*(a+1)**2+r*(a+1))\n",
    "    A[a][a-1:a+2] = [alpha, beta, gamma]\n",
    "beta1 = 1+delta_t*(vol**2*(1)**2+r)\n",
    "gamma1 = -(delta_t/2)*(vol**2*(1)**2+r*(1))\n",
    "A[0][0:2] = [beta1,gamma1]\n",
    "alpha99 = (delta_t/2)*(r*(99)-vol**2*(99))\n",
    "beta99 = 1+delta_t*(vol**2*(99)**2+r)\n",
    "A[98][-2] = alpha99\n",
    "A[98][-1] = beta99\n",
    "    \n",
    "\n",
    "# represent C100\n",
    "Cn = np.zeros(99)\n",
    "for j in range(1,100):\n",
    "    profit = (j)*delta_S-K\n",
    "    if profit < 0 :\n",
    "        Cn[j-1] = 0\n",
    "    if profit >= 0:\n",
    "        Cn[j-1] = profit\n",
    "\n",
    "i = 100\n",
    "# represent Bi\n",
    "while i>0:    \n",
    "    B = np.zeros(99) \n",
    "    alpha1 = (delta_t/2)*(r*1-vol**2*1)\n",
    "    B[0] = alpha1 * 0 # boundary condition when S = 0\n",
    "    gamma99 = -(delta_t/2)*(vol**2*99**2+r*99)\n",
    "    B[-1] = gamma99 * (Smax-K*math.exp(-r*(T-i*delta_t)))\n",
    "        \n",
    "    initial = [1]*99\n",
    "    b = Cn-B\n",
    "    Cn_1 = jacobi(A, b, 100, initial)\n",
    "    Cn = Cn_1\n",
    "    i = i-1\n",
    "Cn[44]"
   ]
  },
  {
   "cell_type": "code",
   "execution_count": null,
   "metadata": {},
   "outputs": [],
   "source": []
  }
 ],
 "metadata": {
  "kernelspec": {
   "display_name": "Python 3",
   "language": "python",
   "name": "python3"
  },
  "language_info": {
   "codemirror_mode": {
    "name": "ipython",
    "version": 3
   },
   "file_extension": ".py",
   "mimetype": "text/x-python",
   "name": "python",
   "nbconvert_exporter": "python",
   "pygments_lexer": "ipython3",
   "version": "3.7.4"
  }
 },
 "nbformat": 4,
 "nbformat_minor": 2
}
